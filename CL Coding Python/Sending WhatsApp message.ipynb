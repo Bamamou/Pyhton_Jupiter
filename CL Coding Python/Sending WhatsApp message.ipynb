{
 "cells": [
  {
   "cell_type": "markdown",
   "metadata": {},
   "source": [
    "##    Sending message using WhatsApp \n",
    "*This is a simple demo of the pywhatkit librairy* <br>\n",
    "*It is about how to send a WhatsApp message at a specified time*"
   ]
  },
  {
   "cell_type": "code",
   "execution_count": 3,
   "metadata": {},
   "outputs": [
    {
     "name": "stdout",
     "output_type": "stream",
     "text": [
      "In 30 Seconds WhatsApp will open and after 15 Seconds Message will be Delivered!\n",
      "Message sent succefully\n"
     ]
    }
   ],
   "source": [
    "import pywhatkit\n",
    "#using exception handlinh to avoid unprecendented errors\n",
    "try:\n",
    "    #sending the message to my whatsApp\n",
    "    pywhatkit.sendwhatmsg(\"+8613059188603\", \"Hello Nicolas\", 23, 18 )  # Check the time you want to send the message\n",
    "    print(\"Message sent succefully\")\n",
    "except:\n",
    "    #Handling exception and printing the error message\n",
    "    print(\"An unexcepted error occured, plese check the time and try again!\")"
   ]
  },
  {
   "cell_type": "code",
   "execution_count": null,
   "metadata": {},
   "outputs": [],
   "source": []
  }
 ],
 "metadata": {
  "kernelspec": {
   "display_name": "Python 3",
   "language": "python",
   "name": "python3"
  },
  "language_info": {
   "codemirror_mode": {
    "name": "ipython",
    "version": 3
   },
   "file_extension": ".py",
   "mimetype": "text/x-python",
   "name": "python",
   "nbconvert_exporter": "python",
   "pygments_lexer": "ipython3",
   "version": "3.12.2"
  }
 },
 "nbformat": 4,
 "nbformat_minor": 2
}
