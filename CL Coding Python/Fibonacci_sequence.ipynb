{
 "cells": [
  {
   "cell_type": "markdown",
   "metadata": {},
   "source": [
    "## <center>Fibonacci sequence\n",
    "In mathematics, the Fibonacci sequence is a sequence in which each number is the sum of the two preceding ones. It was first elaborated in India and named after  Leonardo of Pisa  Fibonacci.\n",
    "The mathematical formula is:  $F_n = \\frac{\\phi^{n} - (1- \\phi)^n}{\\sqrt{5}} $ <br>\n",
    "Wher $\\phi$ (Phi) is known as the golden ratio. <br>\n",
    "$\\phi = \\frac{1+ \\sqrt{5}}{2}$"
   ]
  },
  {
   "cell_type": "code",
   "execution_count": 9,
   "metadata": {},
   "outputs": [],
   "source": [
    "import math     # A general basic math package\n",
    "#Let's implent the function that can return the fibonacci numbers in a sequence\n",
    "\n",
    "def fibonacci_closed_form(n):\n",
    "    phi =(1 + math.sqrt(5))/2                            #This is the golden ratio\n",
    "    return round((phi**n - (-1/phi)**n)/math.sqrt(5))    # this is the fibonacci sequence"
   ]
  },
  {
   "cell_type": "code",
   "execution_count": 10,
   "metadata": {},
   "outputs": [
    {
     "name": "stdout",
     "output_type": "stream",
     "text": [
      "These are the 14th first Fibonacci numbers: \n",
      "0\n",
      "1\n",
      "1\n",
      "2\n",
      "3\n",
      "5\n",
      "8\n",
      "13\n",
      "21\n",
      "34\n",
      "55\n",
      "89\n",
      "144\n",
      "233\n"
     ]
    }
   ],
   "source": [
    "# Define the number of fibonacci number you want to print \n",
    "num_terms = 14\n",
    "print(\"These are the 14th first Fibonacci numbers: \")\n",
    "# print the Fibonacci sequence \n",
    "for i in range(num_terms):\n",
    "    print(fibonacci_closed_form(i))"
   ]
  },
  {
   "cell_type": "code",
   "execution_count": null,
   "metadata": {},
   "outputs": [],
   "source": []
  }
 ],
 "metadata": {
  "kernelspec": {
   "display_name": "Python 3",
   "language": "python",
   "name": "python3"
  },
  "language_info": {
   "codemirror_mode": {
    "name": "ipython",
    "version": 3
   },
   "file_extension": ".py",
   "mimetype": "text/x-python",
   "name": "python",
   "nbconvert_exporter": "python",
   "pygments_lexer": "ipython3",
   "version": "3.12.2"
  }
 },
 "nbformat": 4,
 "nbformat_minor": 2
}
