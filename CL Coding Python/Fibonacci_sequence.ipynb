{
 "cells": [
  {
   "cell_type": "markdown",
   "metadata": {},
   "source": [
    "## <center>Fibonacci sequence\n",
    "In mathematics, the Fibonacci sequence is a sequence in which each number is the sum of the two preceding ones. It was first elaborated in India and named after  Leonardo of Pisa  Fibonacci.\n",
    "The mathematical formula is:  $F_n = \\frac{\\phi^{n} - (1- \\phi)^n}{\\sqrt{5}} $ <br>\n",
    "Wher $\\phi$ (Phi) is known as the golden ratio. <br>\n",
    "$\\phi = \\frac{1+ \\sqrt{5}}{2}$"
   ]
  },
  {
   "cell_type": "code",
   "execution_count": 10,
   "metadata": {},
   "outputs": [],
   "source": [
    "import math     # A general basic math package\n",
    "#Let's implent the function that can return the fibonacci numbers in a sequence\n",
    "\n",
    "def fibonacci_closed_form(n):\n",
    "    phi =(1 + math.sqrt(5))/2                            #This is the golden ratio\n",
    "    return round((phi**n - (-1/phi)**n)/math.sqrt(5))    # this is the fibonacci sequence"
   ]
  },
  {
   "cell_type": "code",
   "execution_count": null,
   "metadata": {},
   "outputs": [],
   "source": [
    "# Define the number of fibonacci number you want to print \n",
    "num_terms = int(input(\"Enter a number here:-\\n\"))\n",
    "print(\"These are the 14th first Fibonacci numbers: \")\n",
    "# print the Fibonacci sequence \n",
    "for i in range(num_terms):\n",
    "    print(fibonacci_closed_form(i))"
   ]
  },
  {
   "cell_type": "code",
   "execution_count": null,
   "metadata": {},
   "outputs": [],
   "source": [
    "!pip install jovian --upgrade"
   ]
  },
  {
   "cell_type": "code",
   "execution_count": 7,
   "metadata": {},
   "outputs": [],
   "source": [
    "import jovian"
   ]
  },
  {
   "cell_type": "code",
   "execution_count": 13,
   "metadata": {},
   "outputs": [
    {
     "data": {
      "application/javascript": "window.require && require([\"base/js/namespace\"],function(Jupyter){Jupyter.notebook.save_checkpoint()})",
      "text/plain": [
       "<IPython.core.display.Javascript object>"
      ]
     },
     "metadata": {},
     "output_type": "display_data"
    },
    {
     "name": "stdout",
     "output_type": "stream",
     "text": [
      "[jovian] Updating notebook \"bamamou/fibonacci-sequence\" on https://jovian.com/\u001b[0m\n",
      "[jovian] Committed successfully! https://jovian.com/bamamou/fibonacci-sequence\u001b[0m\n"
     ]
    },
    {
     "data": {
      "text/plain": [
       "'https://jovian.com/bamamou/fibonacci-sequence'"
      ]
     },
     "execution_count": 13,
     "metadata": {},
     "output_type": "execute_result"
    }
   ],
   "source": [
    "jovian.commit(\"First commit of my function\", filename='Fibonacci_sequence.ipynb')"
   ]
  }
 ],
 "metadata": {
  "kernelspec": {
   "display_name": "Python 3",
   "language": "python",
   "name": "python3"
  },
  "language_info": {
   "codemirror_mode": {
    "name": "ipython",
    "version": 3
   },
   "file_extension": ".py",
   "mimetype": "text/x-python",
   "name": "python",
   "nbconvert_exporter": "python",
   "pygments_lexer": "ipython3",
   "version": "3.12.2"
  }
 },
 "nbformat": 4,
 "nbformat_minor": 2
}
