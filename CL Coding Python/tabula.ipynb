{
 "cells": [
  {
   "cell_type": "markdown",
   "metadata": {},
   "source": [
    "## Check the java version of your invironment "
   ]
  },
  {
   "cell_type": "code",
   "execution_count": 2,
   "metadata": {},
   "outputs": [
    {
     "name": "stderr",
     "output_type": "stream",
     "text": [
      "java version \"1.8.0_381\"\n",
      "Java(TM) SE Runtime Environment (build 1.8.0_381-b09)\n",
      "Java HotSpot(TM) Client VM (build 25.381-b09, mixed mode, sharing)\n"
     ]
    }
   ],
   "source": [
    "!java -version"
   ]
  },
  {
   "cell_type": "markdown",
   "metadata": {},
   "source": [
    "### install tabula-py"
   ]
  },
  {
   "cell_type": "code",
   "execution_count": 3,
   "metadata": {},
   "outputs": [
    {
     "name": "stderr",
     "output_type": "stream",
     "text": [
      "\n",
      "[notice] A new release of pip is available: 24.1.1 -> 24.1.2\n",
      "[notice] To update, run: python.exe -m pip install --upgrade pip\n"
     ]
    }
   ],
   "source": [
    "# To be more precisely, it's better to use `{sys.executable} -m pip install tabula-py`\n",
    "!pip install -q tabula-py"
   ]
  },
  {
   "cell_type": "code",
   "execution_count": 4,
   "metadata": {},
   "outputs": [
    {
     "name": "stdout",
     "output_type": "stream",
     "text": [
      "Requirement already satisfied: tabula-py[jpype] in c:\\users\\admin\\appdata\\local\\programs\\python\\python312\\lib\\site-packages (2.9.3)\n",
      "Requirement already satisfied: pandas>=0.25.3 in c:\\users\\admin\\appdata\\local\\programs\\python\\python312\\lib\\site-packages (from tabula-py[jpype]) (2.2.1)\n",
      "Requirement already satisfied: numpy in c:\\users\\admin\\appdata\\local\\programs\\python\\python312\\lib\\site-packages (from tabula-py[jpype]) (1.26.4)\n",
      "Requirement already satisfied: distro in c:\\users\\admin\\appdata\\local\\programs\\python\\python312\\lib\\site-packages (from tabula-py[jpype]) (1.9.0)\n",
      "Requirement already satisfied: jpype1 in c:\\users\\admin\\appdata\\local\\programs\\python\\python312\\lib\\site-packages (from tabula-py[jpype]) (1.5.0)\n",
      "Requirement already satisfied: python-dateutil>=2.8.2 in c:\\users\\admin\\appdata\\roaming\\python\\python312\\site-packages (from pandas>=0.25.3->tabula-py[jpype]) (2.9.0.post0)\n",
      "Requirement already satisfied: pytz>=2020.1 in c:\\users\\admin\\appdata\\local\\programs\\python\\python312\\lib\\site-packages (from pandas>=0.25.3->tabula-py[jpype]) (2024.1)\n",
      "Requirement already satisfied: tzdata>=2022.7 in c:\\users\\admin\\appdata\\local\\programs\\python\\python312\\lib\\site-packages (from pandas>=0.25.3->tabula-py[jpype]) (2024.1)\n",
      "Requirement already satisfied: packaging in c:\\users\\admin\\appdata\\roaming\\python\\python312\\site-packages (from jpype1->tabula-py[jpype]) (23.2)\n",
      "Requirement already satisfied: six>=1.5 in c:\\users\\admin\\appdata\\roaming\\python\\python312\\site-packages (from python-dateutil>=2.8.2->pandas>=0.25.3->tabula-py[jpype]) (1.16.0)\n"
     ]
    },
    {
     "name": "stderr",
     "output_type": "stream",
     "text": [
      "\n",
      "[notice] A new release of pip is available: 24.1.1 -> 24.1.2\n",
      "[notice] To update, run: python.exe -m pip install --upgrade pip\n"
     ]
    }
   ],
   "source": [
    "!pip install tabula-py[jpype]"
   ]
  },
  {
   "cell_type": "markdown",
   "metadata": {},
   "source": [
    "### Ceck the tabula working environment in your computer"
   ]
  },
  {
   "cell_type": "code",
   "execution_count": 4,
   "metadata": {},
   "outputs": [
    {
     "name": "stdout",
     "output_type": "stream",
     "text": [
      "Python version:\n",
      "    3.12.2 (tags/v3.12.2:6abddd9, Feb  6 2024, 21:26:36) [MSC v.1937 64 bit (AMD64)]\n",
      "Java version:\n",
      "    java version \"1.8.0_381\"\n",
      "Java(TM) SE Runtime Environment (build 1.8.0_381-b09)\n",
      "Java HotSpot(TM) Client VM (build 25.381-b09, mixed mode, sharing)\n",
      "tabula-py version: 2.9.3\n",
      "platform: Windows-10-10.0.19045-SP0\n",
      "uname:\n",
      "    uname_result(system='Windows', node='BAMAMOU', release='10', version='10.0.19045', machine='AMD64')\n",
      "linux_distribution: ('', '', '')\n",
      "mac_ver: ('', ('', '', ''), '')\n"
     ]
    }
   ],
   "source": [
    "import tabula\n",
    "\n",
    "tabula.environment_info()"
   ]
  },
  {
   "cell_type": "markdown",
   "metadata": {},
   "source": [
    "### Example \n",
    " First import required packages and read the data"
   ]
  },
  {
   "cell_type": "code",
   "execution_count": 61,
   "metadata": {},
   "outputs": [
    {
     "name": "stdout",
     "output_type": "stream",
     "text": [
      "         Ire  Rang   ex              Prénoms et Noms  \\\n",
      "0   IRE BOKE     1  NaN              KARAMADI DIALLO   \n",
      "1   IRE BOKE     2  NaN  HADJA MARIAMA DJELO\\rDIALLO   \n",
      "2   IRE BOKE     3  NaN          MAMADOU BHOYE BALDE   \n",
      "3   IRE BOKE     4  NaN             ABDOUL KARIM SOW   \n",
      "4   IRE BOKE     5  NaN               MAMADOU DIALLO   \n",
      "5   IRE BOKE     6  NaN      MAMADOU LAMARANA DIALLO   \n",
      "6   IRE BOKE     6    X              DJENABOU TRAORE   \n",
      "7   IRE BOKE     6    X        FATOUMATA DIARAYE SOW   \n",
      "8   IRE BOKE     9  NaN             ABDOULAYE SIDIBE   \n",
      "9   IRE BOKE    10  NaN             ABDOULAYE SOUARE   \n",
      "10  IRE BOKE    11  NaN                ABDOULAYE SOW   \n",
      "11  IRE BOKE    12  NaN          MARIAMA KINDY BALDE   \n",
      "12  IRE BOKE    13  NaN         ABDOURAHAMANE DIALLO   \n",
      "13  IRE BOKE    14  NaN   FATOUMATA LAMARANA\\rDIALLO   \n",
      "14  IRE BOKE    14    X             HABIBATOU CAMARA   \n",
      "15  IRE BOKE    16  NaN        MAMADOU BADIKO DIALLO   \n",
      "16  IRE BOKE    17  NaN                 ALSENY BARRY   \n",
      "17  IRE BOKE    18  NaN                  ISSIAGA BAH   \n",
      "18  IRE BOKE    19  NaN            SOULEYMANE DIALLO   \n",
      "19  IRE BOKE    20  NaN      FATOUMATA DIARAYE BARRY   \n",
      "20  IRE BOKE    21  NaN                 RAYMOND LENO   \n",
      "21  IRE BOKE    22  NaN         PIERRE CLAVER DRAMOU   \n",
      "22  IRE BOKE    22    X                   ELVIS LOUA   \n",
      "23  IRE BOKE    24  NaN              MAMOUDOU CAMARA   \n",
      "24  IRE BOKE    24    X           THIERNO HAWA BARRY   \n",
      "\n",
      "                       Centre     PV               Origine Mention  \n",
      "0                  ALPHA YAYA  11352          ACTION VIVRE   TBIEN  \n",
      "1          HADJA M'MAH CAMARA  10141                AMITIE   TBIEN  \n",
      "2          N'DAMA ELEMENTAIRE   6889           VICTOR HUGO   TBIEN  \n",
      "3                  CHRIST_ROI  10766                  TITO   TBIEN  \n",
      "4                 AMITIE_FRIA   9478      ABDOULAYE SOUARE   TBIEN  \n",
      "5            E.E_KASSONGONY I   2839                FILIMA   TBIEN  \n",
      "6                  CHRIST_ROI  10959                  TITO   TBIEN  \n",
      "7                 APPLICATION  12494  PÈRE LAURENT DENOUAL   TBIEN  \n",
      "8                 AMITIE_FRIA   9098      ABDOULAYE SOUARE   TBIEN  \n",
      "9                 AMITIE_FRIA   9099      ABDOULAYE SOUARE   TBIEN  \n",
      "10                 CHRIST_ROI  10759                  TITO   TBIEN  \n",
      "11        ARRASSOULOUL\\rAKRAM   3882        DIARAYE DIALLO   TBIEN  \n",
      "12                 KARAMOKOBA   1813                   KPC   TBIEN  \n",
      "13                APPLICATION  12495  PÈRE LAURENT DENOUAL   TBIEN  \n",
      "14                AMITIE_FRIA   9370      ABDOULAYE SOUARE   TBIEN  \n",
      "15                AMITIE_FRIA   9470      ABDOULAYE SOUARE   TBIEN  \n",
      "16                     FILIMA   3195                FILIMA   TBIEN  \n",
      "17                 CHRIST_ROI  11080         NABY BANGOURA   TBIEN  \n",
      "18  IBRAHIMA KOUMBAMA\\rDIALLO   4628       G.L.C_SANGAREDI   TBIEN  \n",
      "19                  GS TÖRÖDÖ   1185             GS SADABY   TBIEN  \n",
      "20                LES CASTORS   5907        CANDIDAT LIBRE   TBIEN  \n",
      "21                     UNESCO   5212        DIARAYE DIALLO   TBIEN  \n",
      "22                APPLICATION  12489  PÈRE LAURENT DENOUAL   TBIEN  \n",
      "23                    KOKO FA  11797         COLLEGE TOUBA   TBIEN  \n",
      "24  IBRAHIMA KOUMBAMA\\rDIALLO   4654       G.L.C_SANGAREDI   TBIEN  \n"
     ]
    }
   ],
   "source": [
    "import tabula\n",
    "import pandas as pd\n",
    "\n",
    "#pdf_path = \"https://github.com/Bamamou/Exams_Guinea/blob/main/BEPC-2023.pdf\"\n",
    "pdf_path = \"C:\\\\Users\\\\admin\\\\Documents\\\\GitHub\\\\Pyhton_Jupiter\\\\CL Coding Python\\\\BEPC2023.pdf\"\n",
    "\n",
    "dfs = tabula.convert_into(pdf_path, \"output.csv\", output_format=\"csv\", lattice=True, pages='1')\n",
    "df = pd.read_csv(\"output.csv\", sep=',', header=1)\n",
    "\n",
    "# read_pdf returns list of DataFrames\n",
    "print(df)\n"
   ]
  },
  {
   "cell_type": "markdown",
   "metadata": {},
   "source": [
    "### Print some section of the data "
   ]
  },
  {
   "cell_type": "code",
   "execution_count": 62,
   "metadata": {},
   "outputs": [
    {
     "name": "stdout",
     "output_type": "stream",
     "text": [
      "0                    ALPHA YAYA\n",
      "1            HADJA M'MAH CAMARA\n",
      "2            N'DAMA ELEMENTAIRE\n",
      "3                    CHRIST_ROI\n",
      "4                   AMITIE_FRIA\n",
      "5              E.E_KASSONGONY I\n",
      "6                    CHRIST_ROI\n",
      "7                   APPLICATION\n",
      "8                   AMITIE_FRIA\n",
      "9                   AMITIE_FRIA\n",
      "10                   CHRIST_ROI\n",
      "11          ARRASSOULOUL\\rAKRAM\n",
      "12                   KARAMOKOBA\n",
      "13                  APPLICATION\n",
      "14                  AMITIE_FRIA\n",
      "15                  AMITIE_FRIA\n",
      "16                       FILIMA\n",
      "17                   CHRIST_ROI\n",
      "18    IBRAHIMA KOUMBAMA\\rDIALLO\n",
      "19                    GS TÖRÖDÖ\n",
      "20                  LES CASTORS\n",
      "21                       UNESCO\n",
      "22                  APPLICATION\n",
      "23                      KOKO FA\n",
      "24    IBRAHIMA KOUMBAMA\\rDIALLO\n",
      "Name: Centre, dtype: object\n"
     ]
    }
   ],
   "source": [
    "print(df['Centre'])  # Examns centers"
   ]
  },
  {
   "cell_type": "code",
   "execution_count": 63,
   "metadata": {},
   "outputs": [
    {
     "name": "stdout",
     "output_type": "stream",
     "text": [
      "0             ACTION VIVRE\n",
      "1                   AMITIE\n",
      "2              VICTOR HUGO\n",
      "3                     TITO\n",
      "4         ABDOULAYE SOUARE\n",
      "5                   FILIMA\n",
      "6                     TITO\n",
      "7     PÈRE LAURENT DENOUAL\n",
      "8         ABDOULAYE SOUARE\n",
      "9         ABDOULAYE SOUARE\n",
      "10                    TITO\n",
      "11          DIARAYE DIALLO\n",
      "12                     KPC\n",
      "13    PÈRE LAURENT DENOUAL\n",
      "14        ABDOULAYE SOUARE\n",
      "15        ABDOULAYE SOUARE\n",
      "16                  FILIMA\n",
      "17           NABY BANGOURA\n",
      "18         G.L.C_SANGAREDI\n",
      "19               GS SADABY\n",
      "20          CANDIDAT LIBRE\n",
      "21          DIARAYE DIALLO\n",
      "22    PÈRE LAURENT DENOUAL\n",
      "23           COLLEGE TOUBA\n",
      "24         G.L.C_SANGAREDI\n",
      "Name: Origine, dtype: object\n"
     ]
    }
   ],
   "source": [
    "print(df['Origine'])   # the school of origines"
   ]
  },
  {
   "cell_type": "code",
   "execution_count": 64,
   "metadata": {},
   "outputs": [
    {
     "name": "stdout",
     "output_type": "stream",
     "text": [
      "0                 KARAMADI DIALLO\n",
      "1     HADJA MARIAMA DJELO\\rDIALLO\n",
      "2             MAMADOU BHOYE BALDE\n",
      "3                ABDOUL KARIM SOW\n",
      "4                  MAMADOU DIALLO\n",
      "5         MAMADOU LAMARANA DIALLO\n",
      "6                 DJENABOU TRAORE\n",
      "7           FATOUMATA DIARAYE SOW\n",
      "8                ABDOULAYE SIDIBE\n",
      "9                ABDOULAYE SOUARE\n",
      "10                  ABDOULAYE SOW\n",
      "11            MARIAMA KINDY BALDE\n",
      "12           ABDOURAHAMANE DIALLO\n",
      "13     FATOUMATA LAMARANA\\rDIALLO\n",
      "14               HABIBATOU CAMARA\n",
      "15          MAMADOU BADIKO DIALLO\n",
      "16                   ALSENY BARRY\n",
      "17                    ISSIAGA BAH\n",
      "18              SOULEYMANE DIALLO\n",
      "19        FATOUMATA DIARAYE BARRY\n",
      "20                   RAYMOND LENO\n",
      "21           PIERRE CLAVER DRAMOU\n",
      "22                     ELVIS LOUA\n",
      "23                MAMOUDOU CAMARA\n",
      "24             THIERNO HAWA BARRY\n",
      "Name: Prénoms et Noms, dtype: object\n"
     ]
    }
   ],
   "source": [
    "print(df['Prénoms et Noms'])   # Students' names"
   ]
  }
 ],
 "metadata": {
  "kernelspec": {
   "display_name": "Python 3",
   "language": "python",
   "name": "python3"
  },
  "language_info": {
   "codemirror_mode": {
    "name": "ipython",
    "version": 3
   },
   "file_extension": ".py",
   "mimetype": "text/x-python",
   "name": "python",
   "nbconvert_exporter": "python",
   "pygments_lexer": "ipython3",
   "version": "3.12.2"
  }
 },
 "nbformat": 4,
 "nbformat_minor": 2
}
