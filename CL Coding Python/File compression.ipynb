{
 "cells": [
  {
   "cell_type": "markdown",
   "metadata": {},
   "source": [
    "## Zipping a fie with gzip and shutill"
   ]
  },
  {
   "cell_type": "code",
   "execution_count": 2,
   "metadata": {},
   "outputs": [],
   "source": [
    "import gzip\n",
    "import shutil\n",
    "\n",
    "def compress_file(input_file, output_file):\n",
    "    with open(input_file, 'rb') as file_in:              #Open and read the input as a file_in\n",
    "        with gzip.open(output_file, 'wb') as file_out:   # Write output file in a file called file_out\n",
    "            shutil.copyfileobj(file_in, file_out)        # Copy the read file into the written file"
   ]
  },
  {
   "cell_type": "code",
   "execution_count": 3,
   "metadata": {},
   "outputs": [],
   "source": [
    "# example \n",
    "input_file =\"Nicolas CV.pdf\"\n",
    "output_file = \"Nicolas.pdf.gz\"\n",
    "compress_file(input_file, output_file)"
   ]
  }
 ],
 "metadata": {
  "kernelspec": {
   "display_name": "Python 3",
   "language": "python",
   "name": "python3"
  },
  "language_info": {
   "codemirror_mode": {
    "name": "ipython",
    "version": 3
   },
   "file_extension": ".py",
   "mimetype": "text/x-python",
   "name": "python",
   "nbconvert_exporter": "python",
   "pygments_lexer": "ipython3",
   "version": "3.12.2"
  }
 },
 "nbformat": 4,
 "nbformat_minor": 2
}
