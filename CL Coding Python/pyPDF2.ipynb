{
 "cells": [
  {
   "cell_type": "markdown",
   "metadata": {},
   "source": [
    "## <center> pyPDF2 "
   ]
  },
  {
   "cell_type": "code",
   "execution_count": 3,
   "metadata": {},
   "outputs": [],
   "source": [
    "from PyPDF2 import PdfReader, PdfWriter  # The Reader and Writer class of the PDF2 API\n",
    "import getpass     #For password\n",
    "from gtts import gTTS #  Google Text-to-Speech\n",
    "import os "
   ]
  },
  {
   "cell_type": "code",
   "execution_count": null,
   "metadata": {},
   "outputs": [],
   "source": [
    "pdfwrite = PdfWriter()\n",
    "pdf = PdfReader('Nicolas CV Update (03_02_2024).pdf')\n",
    "for page_num in range(len(pdf.pages)):\n",
    "    pdfwrite.add_page(pdf.pages[page_num])\n",
    "password = getpass.getpass(prompt='Enter your Password: ')\n",
    "pdfwrite.encrypt(password)  #pw = Nicolas\n",
    "with open('Nicolas CV Update (03_02_2024).pdf','wb') as f:\n",
    "    pdfwrite.write(f)\n",
    "print(\"Your file is now password protected!\")"
   ]
  },
  {
   "cell_type": "code",
   "execution_count": null,
   "metadata": {},
   "outputs": [],
   "source": [
    "#This fist function read the pdf file and save it under the name of text\n",
    "def pdf_to_text(pdf_file):\n",
    "    text =\"\"\n",
    "    with open(pdf_file, 'rb') as f:\n",
    "        reader =PdfReader(f)\n",
    "        for page_num in range(len(reader.pages)):\n",
    "            page = reader.pages[page_num]\n",
    "            text += page.extract_text()\n",
    "            return text\n",
    "# This second function convert the pdf file into mp3 audio\n",
    "def text_to_audio(text, output_file):\n",
    "    tts = gTTS(text)\n",
    "    tts.save(output_file)\n",
    "\n",
    "#Now let's use both functions for example convertion\n",
    "pdf_file = \"Nicolas CV.pdf\"\n",
    "output_audio_file = \"Nicolas_CV_audio.mp3\"\n",
    "text = pdf_to_text(pdf_file)\n",
    "text_to_audio(text, output_audio_file)"
   ]
  },
  {
   "cell_type": "code",
   "execution_count": 7,
   "metadata": {},
   "outputs": [
    {
     "data": {
      "text/plain": [
       "['Nicolas_CV_to_png\\\\page_0.png']"
      ]
     },
     "execution_count": 7,
     "metadata": {},
     "output_type": "execute_result"
    }
   ],
   "source": [
    "# This first function convert each page of a pdf to images.\n",
    "def pdf_to_images(pdf_file, output_dir):\n",
    "    images = []\n",
    "    with open(pdf_file, 'rb') as f:\n",
    "        reader = PdfReader(f)\n",
    "        for page_num, _ in enumerate(reader.pages):\n",
    "            #convert ead PDF page to an image\n",
    "            image_path = os.path.join(output_dir, f\"page_{page_num}.png\")\n",
    "            images.append(image_path)\n",
    "            return images\n",
    "\n",
    "## Now time to apply the above function to an example\n",
    "pdf_file = \"Nicolas CV.pdf\"\n",
    "output_dir = \"Nicolas_CV_to_png\"\n",
    "\n",
    "if not os.path.exists(output_dir):\n",
    "    os.makedirs(output_dir)\n",
    "#Now let's call our functionS\n",
    "pdf_to_images(pdf_file, output_dir)"
   ]
  },
  {
   "cell_type": "code",
   "execution_count": null,
   "metadata": {},
   "outputs": [],
   "source": []
  }
 ],
 "metadata": {
  "kernelspec": {
   "display_name": "Python 3",
   "language": "python",
   "name": "python3"
  },
  "language_info": {
   "codemirror_mode": {
    "name": "ipython",
    "version": 3
   },
   "file_extension": ".py",
   "mimetype": "text/x-python",
   "name": "python",
   "nbconvert_exporter": "python",
   "pygments_lexer": "ipython3",
   "version": "3.12.2"
  }
 },
 "nbformat": 4,
 "nbformat_minor": 2
}
